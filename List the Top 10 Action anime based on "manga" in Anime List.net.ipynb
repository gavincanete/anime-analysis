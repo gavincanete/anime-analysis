{
 "cells": [
  {
   "cell_type": "code",
   "execution_count": 186,
   "id": "d37b7bf9",
   "metadata": {},
   "outputs": [],
   "source": [
    "from pyspark.sql import SparkSession\n",
    "from pyspark.sql.types import StructField, StringType, FloatType, StructType"
   ]
  },
  {
   "cell_type": "code",
   "execution_count": 69,
   "id": "30a1a8e6",
   "metadata": {},
   "outputs": [],
   "source": [
    "spark = SparkSession.builder.getOrCreate()"
   ]
  },
  {
   "cell_type": "markdown",
   "id": "9cb86dd9",
   "metadata": {},
   "source": [
    "# Reading data from Animelist.csv"
   ]
  },
  {
   "cell_type": "code",
   "execution_count": 110,
   "id": "1692c88c",
   "metadata": {},
   "outputs": [],
   "source": [
    "data_schema = [StructField('id', StringType(), True),\n",
    " StructField('workId', StringType(), True),\n",
    " StructField('url', StringType(), True),\n",
    " StructField('jpName', StringType(), True),\n",
    " StructField('engName', StringType(), True),\n",
    " StructField('synonymsName', StringType(), True),\n",
    " StructField('workType', StringType(), True),\n",
    " StructField('episodes', StringType(), True),\n",
    " StructField('status', StringType(), True),\n",
    " StructField('aired', StringType(), True),\n",
    " StructField('premiered', StringType(), True),\n",
    " StructField('producer', StringType(), True),\n",
    " StructField('broadcast', StringType(), True),\n",
    " StructField('licensors', StringType(), True),\n",
    " StructField('studios', StringType(), True),\n",
    " StructField('genres', StringType(), True),\n",
    " StructField('themes', StringType(), True),\n",
    " StructField('demographic', StringType(), True),\n",
    " StructField('source', StringType(), True),\n",
    " StructField('duration', StringType(), True),\n",
    " StructField('rating', StringType(), True),\n",
    " StructField('score', FloatType(), True),\n",
    " StructField('allRank', StringType(), True),\n",
    " StructField('popularityRank', StringType(), True),\n",
    " StructField('members', StringType(), True),\n",
    " StructField('favorites', StringType(), True),\n",
    " StructField('scoredByUser', FloatType(), True),\n",
    " StructField('lastUpdate', StringType(), True)]\n",
    "\n",
    "final_struct = StructType(fields=data_schema)\n",
    "anime_list_df = spark.read.option(\"header\",True).csv('data/anime_list.csv', schema=final_struct)"
   ]
  },
  {
   "cell_type": "code",
   "execution_count": 71,
   "id": "a3162b81",
   "metadata": {},
   "outputs": [
    {
     "name": "stdout",
     "output_type": "stream",
     "text": [
      "+---+------+--------------------+---------------------------------------+--------------------+--------------------+--------+--------+----------------+--------------------+-----------+--------------------+--------------------+--------------------+--------------------+--------------------+--------------------+-----------+------------+---------------+--------------------+-----+-------+--------------+---------+---------+------------+-------------------+\n",
      "| id|workId|                 url|                                 jpName|             engName|        synonymsName|workType|episodes|          status|               aired|  premiered|            producer|           broadcast|           licensors|             studios|              genres|              themes|demographic|      source|       duration|              rating|score|allRank|popularityRank|  members|favorites|scoredByUser|         lastUpdate|\n",
      "+---+------+--------------------+---------------------------------------+--------------------+--------------------+--------+--------+----------------+--------------------+-----------+--------------------+--------------------+--------------------+--------------------+--------------------+--------------------+-----------+------------+---------------+--------------------+-----+-------+--------------+---------+---------+------------+-------------------+\n",
      "|  1| 47917|https://myanimeli...|                   ぼっち・ざ・ろっく！|    Bocchi the Rock!|                null|      TV|      12| Finished Airing|Oct 9, 2022 to De...|  Fall 2022|  Aniplex, Houbunsha|Sundays at 00:00 ...|            add some|         CloverWorks|              Comedy|        CGDCT, Music|       null|4-koma manga|23 min. per ep.|PG-13 - Teens 13 ...| 8.86|    #27|          #509|  415,475|   20,435|      241578|2023-06-02 00:11:01|\n",
      "|  2|    19|https://myanimeli...|                             モンスター|             Monster|                null|      TV|      74| Finished Airing|Apr 7, 2004 to Se...|Spring 2004|VAP, Shogakukan-S...|Wednesdays at 00:...|           VIZ Media|            Madhouse|Drama, Mystery, S...|Adult Cast, Psych...|     Seinen|       Manga|24 min. per ep.|    R+ - Mild Nudity| 8.87|    #26|          #142|1,006,450|   46,856|      365316|2023-06-02 00:11:10|\n",
      "|  3| 35247|https://myanimeli...|                                 終物語|Owarimonogatari S...|End Story 2nd Season|      TV|       7| Finished Airing|Aug 12, 2017 to A...|Summer 2017|   Aniplex, Kodansha|Not scheduled onc...|  Aniplex of America|               Shaft|Comedy, Mystery, ...|             Vampire|       null| Light novel|22 min. per ep.|R - 17+ (violence...| 8.88|    #25|          #567|  379,309|    8,444|      182679|2023-06-02 00:11:19|\n",
      "|  4| 37491|https://myanimeli...|                  銀魂. 銀ノ魂篇 後半戦|Gintama.: Silver ...|Gintama.: Silver ...|      TV|      14| Finished Airing|Jul 9, 2018 to Oc...|Summer 2018|TV Tokyo, Aniplex...|Mondays at 01:35 ...|            add some|Bandai Namco Pict...|Action, Comedy, S...|Gag Humor, Histor...|    Shounen|       Manga|24 min. per ep.|PG-13 - Teens 13 ...| 8.88|    #24|         #1186|  184,986|    1,018|       89095|2023-06-02 00:11:30|\n",
      "|  5| 52198|https://myanimeli...|    かぐや様は告らせたい -ファースト...|Kaguya-sama: Love...|                null|   Movie|       1| Finished Airing|        Dec 17, 2022|       null|Aniplex, Mainichi...|                null|  Aniplex of America|        A-1 Pictures|Comedy, Drama, Ro...|              School|     Seinen|       Manga|  1 hr. 36 min.|PG-13 - Teens 13 ...| 8.89|    #23|         #1270|  173,642|    1,305|       77107|2023-06-02 00:11:35|\n",
      "|  6| 37987|https://myanimeli...|劇場版 ヴァイオレット・エヴァーガーデン|Violet Evergarden...|Gekijouban Violet...|   Movie|       1| Finished Airing|        Sep 18, 2020|       null|Shochiku, ABC Ani...|                null|          Funimation|     Kyoto Animation|Award Winning, Dr...|                null|       null| Light novel|  2 hr. 20 min.|PG-13 - Teens 13 ...|  8.9|    #22|          #369|  543,754|    8,122|      236908|2023-06-02 00:11:44|\n",
      "|  7| 15335|https://myanimeli...|    劇場版 銀魂 完結篇 万事屋よ永遠なれ|Gintama: The Movi...|Gintama: The Fina...|   Movie|       1| Finished Airing|         Jul 6, 2013|       null|TV Tokyo, Aniplex...|                null|            add some|             Sunrise|Action, Comedy, S...|Gag Humor, Histor...|    Shounen|       Manga|  1 hr. 50 min.|PG-13 - Teens 13 ...| 8.91|    #21|          #975|  228,655|    2,086|      129356|2023-06-02 00:11:51|\n",
      "|  8|  2904|https://myanimeli...|     コードギアス 反逆のルルーシュ 続編|Code Geass: Lelou...|Code Geass: Hangy...|      TV|      25| Finished Airing|Apr 6, 2008 to Se...|Spring 2008|Bandai Visual, Ma...|Sundays at 17:00 ...|Funimation, Banda...|             Sunrise|Action, Award Win...|Mecha, Military, ...|       null|    Original|24 min. per ep.|R - 17+ (violence...| 8.91|    #20|           #47|1,694,846|   74,445|     1142380|2023-06-02 00:12:00|\n",
      "|  9|  4181|https://myanimeli...|                  CLANNAD〜AFTER STO...|Clannad: After Story|                null|      TV|      24| Finished Airing|Oct 3, 2008 to Ma...|  Fall 2008|Pony Canyon, TBS,...|Fridays at 01:59 ...|    Sentai Filmworks|     Kyoto Animation|Drama, Romance, S...|                null|       null|Visual novel|24 min. per ep.|PG-13 - Teens 13 ...| 8.93|    #19|          #113|1,147,308|   68,857|      638545|2023-06-02 00:12:10|\n",
      "| 10| 35180|https://myanimeli...|              3月のライオン 第2シリーズ|March Comes In Li...|Sangatsu no Lion ...|      TV|      22| Finished Airing|Oct 14, 2017 to M...|  Fall 2017|Aniplex, Dentsu, ...|Saturdays at 23:0...|  Aniplex of America|               Shaft|               Drama|Childcare, Iyashi...|     Seinen|       Manga|25 min. per ep.|PG-13 - Teens 13 ...| 8.93|    #18|          #554|  382,623|   14,827|      190360|2023-06-02 00:12:21|\n",
      "| 11| 28851|https://myanimeli...|                                 聲の形|      A Silent Voice|  The Shape of Voice|   Movie|       1| Finished Airing|        Sep 17, 2016|       null|Shochiku, Pony Ca...|                null|Eleven Arts, NYAV...|     Kyoto Animation|Award Winning, Drama|    Romantic Subtext|    Shounen|       Manga|  2 hr. 10 min.|PG-13 - Teens 13 ...| 8.94|    #17|           #19|2,185,258|   83,123|     1517786|2023-06-02 00:12:30|\n",
      "| 12|   918|https://myanimeli...|                                   銀魂|             Gintama|Gin Tama, Silver ...|      TV|     201| Finished Airing|Apr 4, 2006 to Ma...|Spring 2006|TV Tokyo, Aniplex...|Thursdays at 18:0...|Sentai Filmworks,...|             Sunrise|Action, Comedy, S...|Gag Humor, Histor...|    Shounen|       Manga|24 min. per ep.|PG-13 - Teens 13 ...| 8.94|    #16|          #138|1,020,471|   57,580|      380509|2023-06-02 00:12:41|\n",
      "| 13| 34096|https://myanimeli...|                                 銀魂。|    Gintama Season 5|      Gintama (2017)|      TV|      12| Finished Airing|Jan 9, 2017 to Ma...|Winter 2017|TV Tokyo, Aniplex...|Mondays at 01:35 ...|            add some|Bandai Namco Pict...|Action, Comedy, S...|Gag Humor, Histor...|    Shounen|       Manga|24 min. per ep.|PG-13 - Teens 13 ...| 8.98|    #15|          #745|  296,808|    2,641|      137812|2023-06-02 00:12:46|\n",
      "| 14| 42938|https://myanimeli...|           フルーツバスケット The Final|Fruits Basket: Th...|Fruits Basket 3rd...|      TV|      13| Finished Airing|Apr 6, 2021 to Ju...|Spring 2021|TV Tokyo, TV Osak...|Tuesdays at 01:30...|          Funimation|   TMS Entertainment|Drama, Romance, S...|                null|     Shoujo|       Manga|23 min. per ep.|PG-13 - Teens 13 ...|  9.0|    #14|          #489|  427,959|   18,831|      209757|2023-06-02 00:12:56|\n",
      "| 15|   820|https://myanimeli...|                           銀河英雄伝説|Legend of the Gal...|LoGH, LotGH, Gin'...|     OVA|     110| Finished Airing|Jan 8, 1988 to Ma...|       null|TV Tokyo, Kitty F...|                null|    Sentai Filmworks|K-Factory, Kitty ...|       Drama, Sci-Fi|Adult Cast, Milit...|       null|       Novel|26 min. per ep.|R - 17+ (violence...| 9.02|    #13|          #728|  304,587|   15,595|       75381|2023-06-02 00:13:05|\n",
      "| 16| 52034|https://myanimeli...|                           【推しの子】|        [Oshi No Ko]|             My Star|      TV|      11|Currently Airing|   Apr 12, 2023 to ?|Spring 2023|Shueisha, CyberAg...|Wednesdays at 23:...|    Sentai Filmworks|           Doga Kobo| Drama, Supernatural|Reincarnation, Sh...|     Seinen|       Manga|30 min. per ep.|PG-13 - Teens 13 ...| 9.02|    #12|          #433|  474,835|   16,326|      164519|2023-06-02 00:13:13|\n",
      "| 17| 49387|https://myanimeli...|             ヴィンランド・サガ SEASON2|Vinland Saga Seas...|                null|      TV|      24|Currently Airing|Jan 10, 2023 to J...|Winter 2023|Dentsu, Kodansha,...|Tuesdays at 00:30...|            add some|               MAPPA|Action, Adventure...|    Gore, Historical|     Seinen|       Manga|25 min. per ep.|R - 17+ (violence...| 8.71|    #50|          #515|  409,041|    5,760|       86512|2023-06-02 00:13:31|\n",
      "| 18|  2921|https://myanimeli...|                       あしたのジョー２|    Tomorrow's Joe 2|         Rocky Joe 2|      TV|      47| Finished Airing|Oct 13, 1980 to A...|  Fall 1980|            Annapuru|             Unknown|            add some| Tokyo Movie Shinsha|       Drama, Sports|       Combat Sports|    Shounen|       Manga|24 min. per ep.|PG-13 - Teens 13 ...| 8.71|    #49|         #2971|   47,537|    2,413|       18420|2023-06-02 00:13:37|\n",
      "| 19| 48569|https://myanimeli...|                   86―エイティシックス―|86 Eighty-Six Part 2|                null|      TV|      12| Finished Airing|Oct 3, 2021 to Ma...|  Fall 2021|Aniplex, Kadokawa...|Sundays at 00:00 ...|            add some|        A-1 Pictures|Action, Drama, Sc...|     Mecha, Military|       null| Light novel|23 min. per ep.|R - 17+ (violence...| 8.71|    #48|          #490|  427,940|   12,838|      233796|2023-06-02 00:13:46|\n",
      "| 20|    44|https://myanimeli...|     るろうに剣心―明治剣客浪漫譚―追憶編|Samurai X: Trust ...|Rurouni Kenshin: ...|     OVA|       4| Finished Airing|Feb 20, 1999 to S...|       null|             Aniplex|                null|ADV Films, Aniple...|         Studio Deen|Action, Drama, Ro...|Adult Cast, Histo...|    Shounen|       Manga|29 min. per ep.|R - 17+ (violence...| 8.71|    #47|          #831|  268,165|    6,126|      133954|2023-06-02 00:13:51|\n",
      "+---+------+--------------------+---------------------------------------+--------------------+--------------------+--------+--------+----------------+--------------------+-----------+--------------------+--------------------+--------------------+--------------------+--------------------+--------------------+-----------+------------+---------------+--------------------+-----+-------+--------------+---------+---------+------------+-------------------+\n",
      "only showing top 20 rows\n",
      "\n"
     ]
    }
   ],
   "source": [
    "anime_list_df.show()"
   ]
  },
  {
   "cell_type": "code",
   "execution_count": 73,
   "id": "c4c26360",
   "metadata": {},
   "outputs": [],
   "source": [
    "anime_list_df.createOrReplaceTempView('animelist_table')"
   ]
  },
  {
   "cell_type": "code",
   "execution_count": 111,
   "id": "701f391d",
   "metadata": {},
   "outputs": [
    {
     "name": "stdout",
     "output_type": "stream",
     "text": [
      "root\n",
      " |-- id: string (nullable = true)\n",
      " |-- workId: string (nullable = true)\n",
      " |-- url: string (nullable = true)\n",
      " |-- jpName: string (nullable = true)\n",
      " |-- engName: string (nullable = true)\n",
      " |-- synonymsName: string (nullable = true)\n",
      " |-- workType: string (nullable = true)\n",
      " |-- episodes: string (nullable = true)\n",
      " |-- status: string (nullable = true)\n",
      " |-- aired: string (nullable = true)\n",
      " |-- premiered: string (nullable = true)\n",
      " |-- producer: string (nullable = true)\n",
      " |-- broadcast: string (nullable = true)\n",
      " |-- licensors: string (nullable = true)\n",
      " |-- studios: string (nullable = true)\n",
      " |-- genres: string (nullable = true)\n",
      " |-- themes: string (nullable = true)\n",
      " |-- demographic: string (nullable = true)\n",
      " |-- source: string (nullable = true)\n",
      " |-- duration: string (nullable = true)\n",
      " |-- rating: string (nullable = true)\n",
      " |-- score: float (nullable = true)\n",
      " |-- allRank: string (nullable = true)\n",
      " |-- popularityRank: string (nullable = true)\n",
      " |-- members: string (nullable = true)\n",
      " |-- favorites: string (nullable = true)\n",
      " |-- scoredByUser: float (nullable = true)\n",
      " |-- lastUpdate: string (nullable = true)\n",
      "\n"
     ]
    }
   ],
   "source": [
    "anime_list_df.printSchema()"
   ]
  },
  {
   "cell_type": "markdown",
   "id": "7048653f",
   "metadata": {},
   "source": [
    "# Query a list of anime with action genre\n",
    "\n",
    "Steps:\n",
    " 1) Sort the anime table in descending order\n",
    " 2) Query only the distinct title (some duplicate title exist) and corresponding genre and overall score\n",
    " 3) Filter only with Action genre and Manga as source\n",
    " 4) Clean data by filtering score within (0 - 10) range"
   ]
  },
  {
   "cell_type": "code",
   "execution_count": 166,
   "id": "78e440ef",
   "metadata": {},
   "outputs": [
    {
     "name": "stdout",
     "output_type": "stream",
     "text": [
      "+--------------------+------+--------------------+-----+\n",
      "|             engName|workId|              genres|score|\n",
      "+--------------------+------+--------------------+-----+\n",
      "|Fullmetal Alchemi...|  5114|Action, Adventure...|  9.1|\n",
      "|Bleach: Thousand-...| 41467|Action, Adventure...| 9.07|\n",
      "|Attack on Titan S...| 38524|       Action, Drama| 9.06|\n",
      "|Attack on Titan: ...| 51535|Action, Drama, Su...| 9.06|\n",
      "|    Gintama Season 4| 28977|Action, Comedy, S...| 9.06|\n",
      "|Gintama: The Very...| 39486|Action, Comedy, D...| 9.04|\n",
      "|     Hunter x Hunter| 11061|Action, Adventure...| 9.04|\n",
      "|    Gintama Season 2|  9969|Action, Comedy, S...| 9.04|\n",
      "|  Gintama: Enchousen| 15417|Action, Comedy, S...| 9.03|\n",
      "|    Gintama Season 5| 34096|Action, Comedy, S...| 8.98|\n",
      "|             Gintama|   918|Action, Comedy, S...| 8.94|\n",
      "|Gintama: The Movi...| 15335|Action, Comedy, S...| 8.91|\n",
      "|Gintama.: Silver ...| 37491|Action, Comedy, S...| 8.88|\n",
      "|   Kingdom: Season 3| 40682|              Action| 8.81|\n",
      "|Gintama.: Silver ...| 36838|Action, Comedy, S...| 8.81|\n",
      "|Demon Slayer: Kim...| 47778|     Action, Fantasy|  8.8|\n",
      "|Attack on Titan: ...| 40028|       Action, Drama|  8.8|\n",
      "|Attack on Titan: ...| 48583|       Action, Drama| 8.77|\n",
      "|   Kingdom: Season 4| 50160|              Action| 8.75|\n",
      "|                null| 37521|Action, Adventure...| 8.74|\n",
      "+--------------------+------+--------------------+-----+\n",
      "only showing top 20 rows\n",
      "\n"
     ]
    }
   ],
   "source": [
    "anime_list = spark.sql(\"SELECT DISTINCT engName, workId, genres, score \\\n",
    "                       FROM animelist_table \\\n",
    "                       WHERE (score >= 0 AND score <= 10) \\\n",
    "                       AND genres LIKE 'Action%' \\\n",
    "                       AND source LIKE '%Manga%' \\\n",
    "                       ORDER BY score DESC\")\n",
    "anime_list.show()"
   ]
  },
  {
   "cell_type": "code",
   "execution_count": 167,
   "id": "1641894e",
   "metadata": {},
   "outputs": [],
   "source": [
    "anime_list.createOrReplaceTempView('anime_list')"
   ]
  },
  {
   "cell_type": "markdown",
   "id": "508ec7f0",
   "metadata": {},
   "source": [
    "# Reading data from Reviewlist.csv"
   ]
  },
  {
   "cell_type": "code",
   "execution_count": 144,
   "id": "00412df9",
   "metadata": {},
   "outputs": [],
   "source": [
    "data_schema = [StructField('id',StringType(), True),\n",
    " StructField('workId',StringType(), True),\n",
    " StructField('url',StringType(), True),\n",
    " StructField('workName',StringType(), True),\n",
    " StructField('postTime',StringType(), True),\n",
    " StructField('episodesSeen',StringType(), True),\n",
    " StructField('overallRating',StringType(), True),\n",
    " StructField('author',StringType(), True),\n",
    " StructField('reviewId',StringType(), True),\n",
    " StructField('review',StringType(), True),\n",
    " StructField('recommendationStatus', StringType(), True),\n",
    " StructField('nice',StringType(), True),\n",
    " StructField('loveIt',StringType(), True),\n",
    " StructField('funny',StringType(), True),\n",
    " StructField('confusing',StringType(), True),\n",
    " StructField('informative',StringType(), True),\n",
    " StructField('wellWritten',StringType(), True),\n",
    " StructField('creative', StringType(), True)]\n",
    "\n",
    "final_struct = StructType(fields=data_schema)\n",
    "reviews_df = spark.read.option(\"header\",True).csv('data/reviews.csv')"
   ]
  },
  {
   "cell_type": "code",
   "execution_count": 145,
   "id": "6f2b59bc",
   "metadata": {},
   "outputs": [
    {
     "data": {
      "text/plain": [
       "['id',\n",
       " 'workId',\n",
       " 'url',\n",
       " 'workName',\n",
       " 'postTime',\n",
       " 'episodesSeen',\n",
       " 'overallRating',\n",
       " 'author',\n",
       " 'reviewId',\n",
       " 'review',\n",
       " 'recommendationStatus',\n",
       " 'nice',\n",
       " 'loveIt',\n",
       " 'funny',\n",
       " 'confusing',\n",
       " 'informative',\n",
       " 'wellWritten',\n",
       " 'creative']"
      ]
     },
     "execution_count": 145,
     "metadata": {},
     "output_type": "execute_result"
    }
   ],
   "source": [
    "reviews_df.columns"
   ]
  },
  {
   "cell_type": "code",
   "execution_count": 146,
   "id": "415bb28c",
   "metadata": {},
   "outputs": [
    {
     "name": "stdout",
     "output_type": "stream",
     "text": [
      "root\n",
      " |-- id: string (nullable = true)\n",
      " |-- workId: string (nullable = true)\n",
      " |-- url: string (nullable = true)\n",
      " |-- workName: string (nullable = true)\n",
      " |-- postTime: string (nullable = true)\n",
      " |-- episodesSeen: string (nullable = true)\n",
      " |-- overallRating: string (nullable = true)\n",
      " |-- author: string (nullable = true)\n",
      " |-- reviewId: string (nullable = true)\n",
      " |-- review: string (nullable = true)\n",
      " |-- recommendationStatus: string (nullable = true)\n",
      " |-- nice: string (nullable = true)\n",
      " |-- loveIt: string (nullable = true)\n",
      " |-- funny: string (nullable = true)\n",
      " |-- confusing: string (nullable = true)\n",
      " |-- informative: string (nullable = true)\n",
      " |-- wellWritten: string (nullable = true)\n",
      " |-- creative: string (nullable = true)\n",
      "\n"
     ]
    }
   ],
   "source": [
    "reviews_df.printSchema()"
   ]
  },
  {
   "cell_type": "code",
   "execution_count": 147,
   "id": "c7ced672",
   "metadata": {},
   "outputs": [
    {
     "name": "stdout",
     "output_type": "stream",
     "text": [
      "+--------------------+--------------------+--------------------+--------------------+-----------+------------+-------------+------------+--------+--------------------+--------------------+----+------+-----+---------+-----------+-----------+--------+\n",
      "|                  id|              workId|                 url|            workName|   postTime|episodesSeen|overallRating|      author|reviewId|              review|recommendationStatus|nice|loveIt|funny|confusing|informative|wellWritten|creative|\n",
      "+--------------------+--------------------+--------------------+--------------------+-----------+------------+-------------+------------+--------+--------------------+--------------------+----+------+-----+---------+-----------+-----------+--------+\n",
      "|              155870|                 196|https://myanimeli...|Onegai%E2%98%86Twins|Apr 1, 2008|        null|            7|    CapitalJ|    3533|The plot is prett...|                null|null|  null| null|     null|       null|       null|    null|\n",
      "|The art/animation...| I'm no pro on th...|            not bad.|                null|       null|        null|         null|        null|    null|                null|                null|null|  null| null|     null|       null|       null|    null|\n",
      "|The sound is pret...|                null|                null|                null|       null|        null|         null|        null|    null|                null|                null|null|  null| null|     null|       null|       null|    null|\n",
      "|                 ...|                null|                null|                null|       null|        null|         null|        null|    null|                null|                null|null|  null| null|     null|       null|       null|    null|\n",
      "|          and the...|                null|                null|                null|       null|        null|         null|        null|    null|                null|                null|null|  null| null|     null|       null|       null|    null|\n",
      "|The chars were in...| innocent girl an...|                null|                null|       null|        null|         null|        null|    null|                null|                null|null|  null| null|     null|       null|       null|    null|\n",
      "| It's a decent watch| no rewatch value...| the show just tr...|         Recommended|          6|           0|            0|           0|       0|                   0|                   0|null|  null| null|     null|       null|       null|    null|\n",
      "|              245390|                 934|https://myanimeli...|Higurashi_no_Naku...|Apr 1, 2008|        null|           10|     merQree|    3538|I haven't watched...|                null|null|  null| null|     null|       null|       null|    null|\n",
      "|Plus the whole at...|                null|                null|                null|       null|        null|         null|        null|    null|                null|                null|null|  null| null|     null|       null|       null|    null|\n",
      "|          Arigatou~\"|         Recommended|                   9|                   0|          0|           0|            0|           0|       0|                null|                null|null|  null| null|     null|       null|       null|    null|\n",
      "|              269080|                3229|https://myanimeli...|Kimi_ga_Aruji_de_...|Apr 1, 2008|        null|            8|   Master10K|    3525|They Are My Noble...|                null|null|  null| null|     null|       null|       null|    null|\n",
      "|The series is abo...| they end up work...| rich Kuonji fami...| Miyu and Yume). ...|       null|        null|         null|        null|    null|                null|                null|null|  null| null|     null|       null|       null|    null|\n",
      "|                 ...|                null|                null|                null|       null|        null|         null|        null|    null|                null|                null|null|  null| null|     null|       null|       null|    null|\n",
      "|          it&rsqu...| usually involvin...| so the series ne...|                null|       null|        null|         null|        null|    null|                null|                null|null|  null| null|     null|       null|       null|    null|\n",
      "|There are plenty ...| while the rest b...|                null|                null|       null|        null|         null|        null|    null|                null|                null|null|  null| null|     null|       null|       null|    null|\n",
      "|I must say that t...| for the nicely d...| which is a good ...| there&rsquo;s no...|       null|        null|         null|        null|    null|                null|                null|null|  null| null|     null|       null|       null|    null|\n",
      "|Overall They Are ...| comedy with quit...|                null|                null|       null|        null|         null|        null|    null|                null|                null|null|  null| null|     null|       null|       null|    null|\n",
      "|                ^_^\"|         Recommended|                  65|                   0|          0|           0|            0|           0|       0|                null|                null|null|  null| null|     null|       null|       null|    null|\n",
      "|              280755|                1682|https://myanimeli...|Baldr_Force_Exe_R...|Apr 1, 2008|        null|            9|Spades-Deuce|    3528|BALDR FORCE EXE R...|                null|null|  null| null|     null|       null|       null|    null|\n",
      "|              STORY:|                null|                null|                null|       null|        null|         null|        null|    null|                null|                null|null|  null| null|     null|       null|       null|    null|\n",
      "+--------------------+--------------------+--------------------+--------------------+-----------+------------+-------------+------------+--------+--------------------+--------------------+----+------+-----+---------+-----------+-----------+--------+\n",
      "only showing top 20 rows\n",
      "\n"
     ]
    }
   ],
   "source": [
    "reviews_df.show()"
   ]
  },
  {
   "cell_type": "code",
   "execution_count": 148,
   "id": "d434275e",
   "metadata": {},
   "outputs": [],
   "source": [
    "reviews_df.createOrReplaceTempView('review_list')"
   ]
  },
  {
   "cell_type": "code",
   "execution_count": 168,
   "id": "0bd095d2",
   "metadata": {},
   "outputs": [
    {
     "name": "stdout",
     "output_type": "stream",
     "text": [
      "+--------------------+------+--------------------+-----+\n",
      "|             engName|workId|              genres|score|\n",
      "+--------------------+------+--------------------+-----+\n",
      "|Fullmetal Alchemi...|  5114|Action, Adventure...|  9.1|\n",
      "|Bleach: Thousand-...| 41467|Action, Adventure...| 9.07|\n",
      "|Attack on Titan S...| 38524|       Action, Drama| 9.06|\n",
      "|Attack on Titan: ...| 51535|Action, Drama, Su...| 9.06|\n",
      "|    Gintama Season 4| 28977|Action, Comedy, S...| 9.06|\n",
      "|Gintama: The Very...| 39486|Action, Comedy, D...| 9.04|\n",
      "|     Hunter x Hunter| 11061|Action, Adventure...| 9.04|\n",
      "|    Gintama Season 2|  9969|Action, Comedy, S...| 9.04|\n",
      "|  Gintama: Enchousen| 15417|Action, Comedy, S...| 9.03|\n",
      "|    Gintama Season 5| 34096|Action, Comedy, S...| 8.98|\n",
      "|             Gintama|   918|Action, Comedy, S...| 8.94|\n",
      "|Gintama: The Movi...| 15335|Action, Comedy, S...| 8.91|\n",
      "|Gintama.: Silver ...| 37491|Action, Comedy, S...| 8.88|\n",
      "|   Kingdom: Season 3| 40682|              Action| 8.81|\n",
      "|Gintama.: Silver ...| 36838|Action, Comedy, S...| 8.81|\n",
      "|Demon Slayer: Kim...| 47778|     Action, Fantasy|  8.8|\n",
      "|Attack on Titan: ...| 40028|       Action, Drama|  8.8|\n",
      "|Attack on Titan: ...| 48583|       Action, Drama| 8.77|\n",
      "|   Kingdom: Season 4| 50160|              Action| 8.75|\n",
      "|                null| 37521|Action, Adventure...| 8.74|\n",
      "+--------------------+------+--------------------+-----+\n",
      "only showing top 20 rows\n",
      "\n"
     ]
    }
   ],
   "source": [
    "sql_results = spark.sql('SELECT * FROM anime_list')\n",
    "sql_results.show()"
   ]
  },
  {
   "cell_type": "markdown",
   "id": "1182da49",
   "metadata": {},
   "source": [
    "# Join anime table and review list for getting the author"
   ]
  },
  {
   "cell_type": "code",
   "execution_count": 176,
   "id": "9c6f41e0",
   "metadata": {},
   "outputs": [
    {
     "name": "stderr",
     "output_type": "stream",
     "text": [
      "[Stage 185:=============================================>           (4 + 1) / 5]\r"
     ]
    },
    {
     "name": "stdout",
     "output_type": "stream",
     "text": [
      "+--------------------+--------------------+----------------+-----+\n",
      "|               title|               genre|          author|score|\n",
      "+--------------------+--------------------+----------------+-----+\n",
      "|Fullmetal Alchemi...|Action, Adventure...|           GMMPA|  9.1|\n",
      "|Fullmetal Alchemi...|Action, Adventure...|       Torec0399|  9.1|\n",
      "|Fullmetal Alchemi...|Action, Adventure...|     VashXTrigun|  9.1|\n",
      "|Fullmetal Alchemi...|Action, Adventure...|Adventure2345517|  9.1|\n",
      "|Fullmetal Alchemi...|Action, Adventure...|   crocmandiablo|  9.1|\n",
      "|Fullmetal Alchemi...|Action, Adventure...|        MSochist|  9.1|\n",
      "|Fullmetal Alchemi...|Action, Adventure...|         scribbs|  9.1|\n",
      "|Fullmetal Alchemi...|Action, Adventure...|      syaoran555|  9.1|\n",
      "|Fullmetal Alchemi...|Action, Adventure...|        har12430|  9.1|\n",
      "|Fullmetal Alchemi...|Action, Adventure...|       not_inept|  9.1|\n",
      "|Fullmetal Alchemi...|Action, Adventure...|          iNVE14|  9.1|\n",
      "|Fullmetal Alchemi...|Action, Adventure...| Half-MagePrince|  9.1|\n",
      "|Fullmetal Alchemi...|Action, Adventure...|     KillyChides|  9.1|\n",
      "|Fullmetal Alchemi...|Action, Adventure...|KaiserReinhard76|  9.1|\n",
      "|Fullmetal Alchemi...|Action, Adventure...|      HokageEzio|  9.1|\n",
      "|Fullmetal Alchemi...|Action, Adventure...|   GoodAnime_101|  9.1|\n",
      "|Fullmetal Alchemi...|Action, Adventure...|          iHaris|  9.1|\n",
      "|Fullmetal Alchemi...|Action, Adventure...|  ozgurpatan2859|  9.1|\n",
      "|Fullmetal Alchemi...|Action, Adventure...|       SimplyTom|  9.1|\n",
      "|Fullmetal Alchemi...|Action, Adventure...| DarknessReality|  9.1|\n",
      "+--------------------+--------------------+----------------+-----+\n",
      "only showing top 20 rows\n",
      "\n"
     ]
    },
    {
     "name": "stderr",
     "output_type": "stream",
     "text": [
      "\r",
      "                                                                                \r"
     ]
    }
   ],
   "source": [
    "anime_master = spark.sql(\"SELECT anime_list.engName As title, anime_list.genres As genre, \\\n",
    "                         review_list.author, score FROM anime_list\\\n",
    "                         JOIN review_list ON anime_list.workId = review_list.workId \\\n",
    "                         ORDER BY score DESC\")\n",
    "anime_master.show()"
   ]
  },
  {
   "cell_type": "code",
   "execution_count": 177,
   "id": "f62e1aa0",
   "metadata": {},
   "outputs": [],
   "source": [
    "anime_master.createOrReplaceTempView('anime_master_table')"
   ]
  },
  {
   "cell_type": "markdown",
   "id": "84101f4c",
   "metadata": {},
   "source": [
    "# final data clean up"
   ]
  },
  {
   "cell_type": "code",
   "execution_count": 184,
   "id": "046e2556",
   "metadata": {},
   "outputs": [
    {
     "name": "stderr",
     "output_type": "stream",
     "text": [
      "[Stage 213:=============================================>           (4 + 1) / 5]\r"
     ]
    },
    {
     "name": "stdout",
     "output_type": "stream",
     "text": [
      "+--------------------+--------------------+-------------+-----+\n",
      "|               title|               genre|no_of_authors|score|\n",
      "+--------------------+--------------------+-------------+-----+\n",
      "|Fullmetal Alchemi...|Action, Adventure...|          971|  9.1|\n",
      "|Bleach: Thousand-...|Action, Adventure...|          113| 9.07|\n",
      "|    Gintama Season 4|Action, Comedy, S...|           80| 9.06|\n",
      "|Attack on Titan S...|       Action, Drama|          212| 9.06|\n",
      "|Attack on Titan: ...|Action, Drama, Su...|           83| 9.06|\n",
      "|     Hunter x Hunter|Action, Adventure...|          847| 9.04|\n",
      "|Gintama: The Very...|Action, Comedy, D...|           75| 9.04|\n",
      "|    Gintama Season 2|Action, Comedy, S...|           39| 9.04|\n",
      "|  Gintama: Enchousen|Action, Comedy, S...|           25| 9.03|\n",
      "|    Gintama Season 5|Action, Comedy, S...|           27| 8.98|\n",
      "+--------------------+--------------------+-------------+-----+\n",
      "\n"
     ]
    },
    {
     "name": "stderr",
     "output_type": "stream",
     "text": [
      "\r",
      "                                                                                \r"
     ]
    }
   ],
   "source": [
    "sql_results = spark.sql('SELECT title, genre, COUNT(author) As no_of_authors, score \\\n",
    "                        FROM anime_master_table \\\n",
    "                        WHERE title IS NOT NULL \\\n",
    "                        GROUP BY title, genre, score ORDER BY score DESC LIMIT 10')\n",
    "sql_results.show()"
   ]
  },
  {
   "cell_type": "code",
   "execution_count": 185,
   "id": "f2534ddf",
   "metadata": {},
   "outputs": [],
   "source": [
    "spark.stop()"
   ]
  },
  {
   "cell_type": "code",
   "execution_count": null,
   "id": "4b78409c",
   "metadata": {},
   "outputs": [],
   "source": []
  }
 ],
 "metadata": {
  "kernelspec": {
   "display_name": "Python 3 (ipykernel)",
   "language": "python",
   "name": "python3"
  },
  "language_info": {
   "codemirror_mode": {
    "name": "ipython",
    "version": 3
   },
   "file_extension": ".py",
   "mimetype": "text/x-python",
   "name": "python",
   "nbconvert_exporter": "python",
   "pygments_lexer": "ipython3",
   "version": "3.10.12"
  }
 },
 "nbformat": 4,
 "nbformat_minor": 5
}
